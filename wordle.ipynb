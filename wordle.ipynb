{
 "cells": [
  {
   "cell_type": "code",
   "execution_count": 1,
   "id": "6b5afb34-f092-441f-b724-27b7ef821c42",
   "metadata": {},
   "outputs": [
    {
     "name": "stdout",
     "output_type": "stream",
     "text": [
      "Requirement already satisfied: nltk in c:\\users\\hp\\anaconda3\\lib\\site-packages (3.8.1)\n",
      "Requirement already satisfied: click in c:\\users\\hp\\anaconda3\\lib\\site-packages (from nltk) (8.1.7)\n",
      "Requirement already satisfied: joblib in c:\\users\\hp\\anaconda3\\lib\\site-packages (from nltk) (1.4.2)\n",
      "Requirement already satisfied: regex>=2021.8.3 in c:\\users\\hp\\anaconda3\\lib\\site-packages (from nltk) (2023.10.3)\n",
      "Requirement already satisfied: tqdm in c:\\users\\hp\\anaconda3\\lib\\site-packages (from nltk) (4.66.4)\n",
      "Requirement already satisfied: colorama in c:\\users\\hp\\anaconda3\\lib\\site-packages (from click->nltk) (0.4.6)\n",
      "Note: you may need to restart the kernel to use updated packages.\n"
     ]
    }
   ],
   "source": [
    "pip install nltk"
   ]
  },
  {
   "cell_type": "code",
   "execution_count": 2,
   "id": "14dc8372-e79a-43a7-830d-1b57a49d208d",
   "metadata": {},
   "outputs": [],
   "source": [
    "import random\n",
    "import nltk\n",
    "from nltk.corpus import words\n",
    "import random\n",
    "\n",
    "# Download the words corpus if you don't already have it\n",
    "#nltk.download('words')\n",
    "\n",
    "# Get all English words\n",
    "word_list = words.words()\n",
    "\n",
    "# Fetch 5-letter words\n",
    "five_letter_words = [word.lower() for word in word_list if len(word) == 5]\n",
    "\n"
   ]
  },
  {
   "cell_type": "code",
   "execution_count": 3,
   "id": "ed26c93e-68e7-4d68-b233-e80f75a9b2e8",
   "metadata": {},
   "outputs": [],
   "source": [
    "def computer_word():\n",
    "    \n",
    "    # Randomly select a word\n",
    "    random_word = random.choice(five_letter_words)\n",
    "\n",
    "    return random_word\n",
    "\n"
   ]
  },
  {
   "cell_type": "code",
   "execution_count": 4,
   "id": "3309f203-1b98-40e4-ae27-04db133b89ee",
   "metadata": {},
   "outputs": [],
   "source": [
    "def validate_input(string):\n",
    "    #Check if word is 5 letters or not\n",
    "    if len(string) > 5:\n",
    "        print('Enter a 5 letter word!')\n",
    "        return False\n",
    "\n",
    "    #if word exists in dictionary or not\n",
    "    elif string not in five_letter_words:\n",
    "        print('This word does not exists!')\n",
    "        return False\n",
    "    else:\n",
    "        return True"
   ]
  },
  {
   "cell_type": "code",
   "execution_count": 5,
   "id": "81c8eb6f-0343-4e71-91ed-8447d926b000",
   "metadata": {},
   "outputs": [],
   "source": [
    "def play_wordle():\n",
    "    \n",
    "    # Get the computer's word\n",
    "    solution = computer_word()\n",
    "    attempts = 6  # Maximum number of guesses\n",
    "\n",
    "    count = 1 #counter for attempts\n",
    "    while count <= attempts:\n",
    "\n",
    "        #Get the user's word\n",
    "        user_input = input(f'Attempt ({count}/6): Enter a 5-letter word: ')\n",
    "\n",
    "        #validate word if its 5-letter or if user's word exist or not\n",
    "        inp = validate_input(user_input)\n",
    "        #if it doesn't exist, restart the loop\n",
    "        if inp == False:\n",
    "            continue\n",
    "\n",
    "        #color code for user input\n",
    "        feedback = []\n",
    "        for i in range(0, 5):\n",
    "            #if letter is in correct position\n",
    "            if user_input[i] == solution[i]:\n",
    "                feedback.append('🟩')\n",
    "            #if letter in word but not on correct position\n",
    "            elif user_input[i] in solution:\n",
    "                feedback.append('🟨')\n",
    "            #if letter not in word\n",
    "                else:\n",
    "                feedback.append('⬛')\n",
    "        print(f'Feedback: {\"\".join(feedback)}')\n",
    "        \n",
    "        \n",
    "        if user_input == solution:\n",
    "            print(f'You got it right in {count} tries')\n",
    "            break\n",
    "        \n",
    "        count += 1  \n",
    "\n",
    "    #if user is not able to \n",
    "    if user_input != solution:\n",
    "        print(f'Better luck next time! The word was {solution}')\n",
    "    \n"
   ]
  },
  {
   "cell_type": "code",
   "execution_count": 12,
   "id": "0b82c0d0-4b9f-4a2b-b122-a568c84fe68a",
   "metadata": {},
   "outputs": [
    {
     "name": "stdin",
     "output_type": "stream",
     "text": [
      "Attempt (1/6): Enter a 5-letter word:  slate\n"
     ]
    },
    {
     "name": "stdout",
     "output_type": "stream",
     "text": [
      "Feedback: ⬛⬛⬛⬛⬛\n"
     ]
    },
    {
     "name": "stdin",
     "output_type": "stream",
     "text": [
      "Attempt (2/6): Enter a 5-letter word:  brock\n"
     ]
    },
    {
     "name": "stdout",
     "output_type": "stream",
     "text": [
      "Feedback: ⬛⬛⬛⬛⬛\n"
     ]
    },
    {
     "name": "stdin",
     "output_type": "stream",
     "text": [
      "Attempt (3/6): Enter a 5-letter word:  pudgy\n"
     ]
    },
    {
     "name": "stdout",
     "output_type": "stream",
     "text": [
      "Feedback: ⬛⬛🟨⬛🟩\n"
     ]
    },
    {
     "name": "stdin",
     "output_type": "stream",
     "text": [
      "Attempt (4/6): Enter a 5-letter word:  filmy\n"
     ]
    },
    {
     "name": "stdout",
     "output_type": "stream",
     "text": [
      "Feedback: ⬛🟩⬛⬛🟩\n"
     ]
    },
    {
     "name": "stdin",
     "output_type": "stream",
     "text": [
      "Attempt (5/6): Enter a 5-letter word:  windy\n"
     ]
    },
    {
     "name": "stdout",
     "output_type": "stream",
     "text": [
      "Feedback: ⬛🟩⬛🟨🟩\n"
     ]
    },
    {
     "name": "stdin",
     "output_type": "stream",
     "text": [
      "Attempt (6/6): Enter a 5-letter word:  dizzy\n"
     ]
    },
    {
     "name": "stdout",
     "output_type": "stream",
     "text": [
      "Feedback: 🟩🟩🟩🟩🟩\n",
      "You got it right in 6 tries\n"
     ]
    }
   ],
   "source": [
    "#Start game\n",
    "play_wordle()"
   ]
  }
 ],
 "metadata": {
  "kernelspec": {
   "display_name": "Python 3 (ipykernel)",
   "language": "python",
   "name": "python3"
  },
  "language_info": {
   "codemirror_mode": {
    "name": "ipython",
    "version": 3
   },
   "file_extension": ".py",
   "mimetype": "text/x-python",
   "name": "python",
   "nbconvert_exporter": "python",
   "pygments_lexer": "ipython3",
   "version": "3.12.4"
  }
 },
 "nbformat": 4,
 "nbformat_minor": 5
}
